{
 "cells": [
  {
   "cell_type": "markdown",
   "metadata": {},
   "source": [
    "# Lab 0.7 - Manipulating Datasets with Pandas\n",
    "\n",
    "## Objective\n",
    "- Install and learn the basics of the `pandas` library.\n",
    "- Manipulate and analyze datasets, finding basic statistics and adding/removing columns.\n",
    "- Create data visualizations using `matplotlib`.\n",
    "\n",
    "## Rubric\n",
    "- 6 pts - Contains all required components and uses professional language and commenting\n",
    "- 5 pts - Contains all required components, but uses unprofessional language, commenting, etc. \n",
    "- 4 pts - Contains some, but not all, of the required components\n",
    "- 3 pts - Did not submit"
   ]
  },
  {
   "cell_type": "markdown",
   "metadata": {},
   "source": [
    "# Instructions\n",
    "\n",
    "Fill in the following code boxes. **Answer the numbered questions in comments next to the code you used to find the answer**."
   ]
  },
  {
   "cell_type": "markdown",
   "metadata": {},
   "source": [
    "# Problem 1: Weather Data\n",
    "\n",
    "We are going to analyze the dataset you created. Use `import pandas as pd` to import the `pandas` library. Then use `df = pd.read_csv(\"filename.csv\")` to create a `DataFrame` called `df`. "
   ]
  },
  {
   "cell_type": "code",
   "execution_count": 73,
   "metadata": {},
   "outputs": [],
   "source": [
    "import pandas as pd\n",
    "df = pd.read_csv(\"humidity.csv\")"
   ]
  },
  {
   "cell_type": "markdown",
   "metadata": {},
   "source": [
    "### `pandas` method reference\n",
    "\n",
    "- `df.head(x)` and `df.tail(x)` will give you the first or the last `x` number of rows respectively\n",
    "- `df.describe()` will give you a **five number summary** of the numeric columns\n",
    "- `df.max()` and `.min()` will with you the maximum and the minimum of the column repectively\n",
    "- `df[column]` will give you the column specified\n",
    "- `df.iloc[index]` will give you the row at a given index\n",
    "- `df.boxplot` will create a box plot of all numeric columns\n",
    "- `df.sort_values(by=col, ascending=False)`sorts the values of the col in either ascending or descending order\n"
   ]
  },
  {
   "cell_type": "markdown",
   "metadata": {},
   "source": [
    "1. What is the last entry in your table?"
   ]
  },
  {
   "cell_type": "code",
   "execution_count": 74,
   "metadata": {},
   "outputs": [
    {
     "data": {
      "text/html": [
       "<div>\n",
       "<style scoped>\n",
       "    .dataframe tbody tr th:only-of-type {\n",
       "        vertical-align: middle;\n",
       "    }\n",
       "\n",
       "    .dataframe tbody tr th {\n",
       "        vertical-align: top;\n",
       "    }\n",
       "\n",
       "    .dataframe thead th {\n",
       "        text-align: right;\n",
       "    }\n",
       "</style>\n",
       "<table border=\"1\" class=\"dataframe\">\n",
       "  <thead>\n",
       "    <tr style=\"text-align: right;\">\n",
       "      <th></th>\n",
       "      <th>Date</th>\n",
       "      <th>Time</th>\n",
       "      <th>Temperature C</th>\n",
       "      <th>Temperature F</th>\n",
       "      <th>Humidity</th>\n",
       "    </tr>\n",
       "  </thead>\n",
       "  <tbody>\n",
       "    <tr>\n",
       "      <th>14258</th>\n",
       "      <td>2025-02-04</td>\n",
       "      <td>16:07:08</td>\n",
       "      <td>21.9</td>\n",
       "      <td>71.42</td>\n",
       "      <td>21.7</td>\n",
       "    </tr>\n",
       "    <tr>\n",
       "      <th>14259</th>\n",
       "      <td>2025-02-04</td>\n",
       "      <td>16:07:09</td>\n",
       "      <td>21.9</td>\n",
       "      <td>71.42</td>\n",
       "      <td>21.7</td>\n",
       "    </tr>\n",
       "    <tr>\n",
       "      <th>14260</th>\n",
       "      <td>2025-02-04</td>\n",
       "      <td>16:07:10</td>\n",
       "      <td>21.9</td>\n",
       "      <td>71.42</td>\n",
       "      <td>21.6</td>\n",
       "    </tr>\n",
       "    <tr>\n",
       "      <th>14261</th>\n",
       "      <td>2025-02-04</td>\n",
       "      <td>16:07:11</td>\n",
       "      <td>21.9</td>\n",
       "      <td>71.42</td>\n",
       "      <td>21.6</td>\n",
       "    </tr>\n",
       "    <tr>\n",
       "      <th>14262</th>\n",
       "      <td>2025-02-04</td>\n",
       "      <td>16:07:12</td>\n",
       "      <td>21.9</td>\n",
       "      <td>71.42</td>\n",
       "      <td>21.6</td>\n",
       "    </tr>\n",
       "  </tbody>\n",
       "</table>\n",
       "</div>"
      ],
      "text/plain": [
       "             Date      Time  Temperature C   Temperature F  Humidity\n",
       "14258  2025-02-04  16:07:08           21.9           71.42      21.7\n",
       "14259  2025-02-04  16:07:09           21.9           71.42      21.7\n",
       "14260  2025-02-04  16:07:10           21.9           71.42      21.6\n",
       "14261  2025-02-04  16:07:11           21.9           71.42      21.6\n",
       "14262  2025-02-04  16:07:12           21.9           71.42      21.6"
      ]
     },
     "execution_count": 74,
     "metadata": {},
     "output_type": "execute_result"
    }
   ],
   "source": [
    "df.tail()"
   ]
  },
  {
   "cell_type": "markdown",
   "metadata": {},
   "source": [
    "2. What is the average temperature(either outside or inside) over your 40 hour period. What is the lowest temperature? What is the highest temperature? "
   ]
  },
  {
   "cell_type": "code",
   "execution_count": 75,
   "metadata": {},
   "outputs": [
    {
     "data": {
      "text/html": [
       "<div>\n",
       "<style scoped>\n",
       "    .dataframe tbody tr th:only-of-type {\n",
       "        vertical-align: middle;\n",
       "    }\n",
       "\n",
       "    .dataframe tbody tr th {\n",
       "        vertical-align: top;\n",
       "    }\n",
       "\n",
       "    .dataframe thead th {\n",
       "        text-align: right;\n",
       "    }\n",
       "</style>\n",
       "<table border=\"1\" class=\"dataframe\">\n",
       "  <thead>\n",
       "    <tr style=\"text-align: right;\">\n",
       "      <th></th>\n",
       "      <th>Temperature C</th>\n",
       "      <th>Temperature F</th>\n",
       "      <th>Humidity</th>\n",
       "    </tr>\n",
       "  </thead>\n",
       "  <tbody>\n",
       "    <tr>\n",
       "      <th>count</th>\n",
       "      <td>14263.000000</td>\n",
       "      <td>14263.000000</td>\n",
       "      <td>14263.000000</td>\n",
       "    </tr>\n",
       "    <tr>\n",
       "      <th>mean</th>\n",
       "      <td>21.630814</td>\n",
       "      <td>70.935465</td>\n",
       "      <td>21.998275</td>\n",
       "    </tr>\n",
       "    <tr>\n",
       "      <th>std</th>\n",
       "      <td>0.219609</td>\n",
       "      <td>0.395296</td>\n",
       "      <td>0.470512</td>\n",
       "    </tr>\n",
       "    <tr>\n",
       "      <th>min</th>\n",
       "      <td>21.300000</td>\n",
       "      <td>70.340000</td>\n",
       "      <td>21.000000</td>\n",
       "    </tr>\n",
       "    <tr>\n",
       "      <th>25%</th>\n",
       "      <td>21.500000</td>\n",
       "      <td>70.700000</td>\n",
       "      <td>21.700000</td>\n",
       "    </tr>\n",
       "    <tr>\n",
       "      <th>50%</th>\n",
       "      <td>21.600000</td>\n",
       "      <td>70.880000</td>\n",
       "      <td>22.000000</td>\n",
       "    </tr>\n",
       "    <tr>\n",
       "      <th>75%</th>\n",
       "      <td>21.700000</td>\n",
       "      <td>71.060000</td>\n",
       "      <td>22.300000</td>\n",
       "    </tr>\n",
       "    <tr>\n",
       "      <th>max</th>\n",
       "      <td>24.000000</td>\n",
       "      <td>75.200000</td>\n",
       "      <td>23.200000</td>\n",
       "    </tr>\n",
       "  </tbody>\n",
       "</table>\n",
       "</div>"
      ],
      "text/plain": [
       "       Temperature C   Temperature F      Humidity\n",
       "count   14263.000000    14263.000000  14263.000000\n",
       "mean       21.630814       70.935465     21.998275\n",
       "std         0.219609        0.395296      0.470512\n",
       "min        21.300000       70.340000     21.000000\n",
       "25%        21.500000       70.700000     21.700000\n",
       "50%        21.600000       70.880000     22.000000\n",
       "75%        21.700000       71.060000     22.300000\n",
       "max        24.000000       75.200000     23.200000"
      ]
     },
     "execution_count": 75,
     "metadata": {},
     "output_type": "execute_result"
    }
   ],
   "source": [
    "df.describe()"
   ]
  },
  {
   "cell_type": "markdown",
   "metadata": {},
   "source": [
    "3. Create a boxplot of the temperatures."
   ]
  },
  {
   "cell_type": "code",
   "execution_count": 76,
   "metadata": {},
   "outputs": [
    {
     "data": {
      "text/plain": [
       "<bound method boxplot_frame of              Date      Time  Temperature C   Temperature F  Humidity\n",
       "0      2025-02-04  10:41:59           24.0           75.20      22.3\n",
       "1      2025-02-04  10:42:00           24.0           75.20      22.3\n",
       "2      2025-02-04  10:42:01           24.0           75.20      22.5\n",
       "3      2025-02-04  10:42:02           24.0           75.20      22.5\n",
       "4      2025-02-04  10:42:04           24.0           75.20      22.6\n",
       "...           ...       ...            ...             ...       ...\n",
       "14258  2025-02-04  16:07:08           21.9           71.42      21.7\n",
       "14259  2025-02-04  16:07:09           21.9           71.42      21.7\n",
       "14260  2025-02-04  16:07:10           21.9           71.42      21.6\n",
       "14261  2025-02-04  16:07:11           21.9           71.42      21.6\n",
       "14262  2025-02-04  16:07:12           21.9           71.42      21.6\n",
       "\n",
       "[14263 rows x 5 columns]>"
      ]
     },
     "execution_count": 76,
     "metadata": {},
     "output_type": "execute_result"
    }
   ],
   "source": [
    "df.boxplot"
   ]
  },
  {
   "cell_type": "code",
   "execution_count": null,
   "metadata": {},
   "outputs": [],
   "source": []
  },
  {
   "cell_type": "markdown",
   "metadata": {},
   "source": [
    "4. Create a plot of temperature over time with `matplotlib`. \n",
    "\n",
    "Import the library with `import matplotlib.pyplot as plt`. The `plot()` method creates a line graphs of temperature over time. Use `plt.plot(df['x_col'],df['y_col'],marker='h')` then `plt.show()` to create your plot of temperature over time. \n",
    "\n",
    "Before `plt.show()`, add the following methods to modify your graph. Remember, **good graphs always have axis labels, a title, clear units etc.**\n",
    "\n",
    "```\n",
    "plt.xlabel('') # labels the x-axis\n",
    "plt.ylabel('') # labels the y-axis\n",
    "plt.title('') # adds a graph title\n",
    "plt.grid() # adds gridlines\n",
    "plt.legend() # adds a legend\n",
    "plt.xticks(rotation=90) # rotates the x-axis tick lables\n",
    "plt.yticks(rotation=90) # rotates the y-axis tick lables\n",
    "```"
   ]
  },
  {
   "cell_type": "code",
   "execution_count": null,
   "metadata": {},
   "outputs": [],
   "source": [
    "import matplotlib.pyplot as plt\n",
    "plt.plot(df['Time'],df[' Temperature F'],marker='h', label=\"Temperature F\")\n",
    "plt.plot(df['Time'],df['Temperature C'],marker='h', label=\"Temperature C\")\n",
    "plt.plot(df['Time'],df['Humidity'],marker='h', label=\"Humidity\")\n",
    "plt.grid()\n",
    "plt.xlabel('2025-2-04')\n",
    "plt.ylabel('Temperature')\n",
    "plt.title('Weather')\n",
    "plt.legend()\n",
    "plt.show()"
   ]
  },
  {
   "cell_type": "markdown",
   "metadata": {},
   "source": [
    "5. Define a new column called `kelvin` which is your `celsius` column + 273.15. "
   ]
  },
  {
   "cell_type": "code",
   "execution_count": null,
   "metadata": {},
   "outputs": [],
   "source": []
  },
  {
   "cell_type": "markdown",
   "metadata": {},
   "source": [
    "6. Get the record(row) at 2:30PM \n"
   ]
  },
  {
   "cell_type": "code",
   "execution_count": null,
   "metadata": {},
   "outputs": [
    {
     "data": {
      "text/plain": [
       "Date              2025-02-04\n",
       "Time                14:30:03\n",
       "Temperature C           21.7\n",
       " Temperature F         71.06\n",
       "Humidity                22.6\n",
       "Name: 9305, dtype: object"
      ]
     },
     "execution_count": 62,
     "metadata": {},
     "output_type": "execute_result"
    }
   ],
   "source": [
    "df.iloc[9305]"
   ]
  },
  {
   "cell_type": "markdown",
   "metadata": {},
   "source": [
    "# Problem 2: Population Data\n",
    "\n",
    "In this example we will fetch data about countries and their predicted populations from [Wikipedia](http://en.wikipedia.org/wiki/List_of_countries_by_past_and_future_population).\n",
    "\n",
    "I have done the web scraping and creation of a `DataFrame`,`df_a`."
   ]
  },
  {
   "cell_type": "code",
   "execution_count": null,
   "metadata": {},
   "outputs": [],
   "source": [
    "import numpy as np\n",
    "import pandas as pd\n",
    "import requests\n",
    "from bs4 import BeautifulSoup\n",
    "\n",
    "\n",
    "url = 'http://en.wikipedia.org/wiki/List_of_countries_by_past_and_future_population'\n",
    "page = requests.get(url)\n",
    "soup = BeautifulSoup(page.content, \"html.parser\")\n",
    "\n",
    "tbody = soup.find_all(\"tbody\")\n",
    "tr = tbody[0].find_all(\"tr\")\n",
    "arr = []\n",
    "mat = []\n",
    "for t in tr:\n",
    "    lst = t.text.split(\"\\n\")\n",
    "    for l in lst:\n",
    "        if l == \"\":\n",
    "            if arr != []:\n",
    "                arr = arr[0:2] + arr[2::2]\n",
    "                mat.append(arr)\n",
    "                arr = []\n",
    "        else:\n",
    "            try: \n",
    "                arr.append(int(l.lstrip('\\xa0').replace(\",\",\"\")))\n",
    "            except ValueError:\n",
    "                arr.append(str(l.lstrip('\\xa0').replace(\",\",\"\")))\n",
    "titles = mat[0]\n",
    "titles[0] = \"countries\"\n",
    "mat = mat[1:]\n",
    "df_a = pd.DataFrame.from_records(mat, columns=titles) \n"
   ]
  },
  {
   "cell_type": "markdown",
   "metadata": {},
   "source": [
    "1. A 5 number summary of `df_a`"
   ]
  },
  {
   "cell_type": "code",
   "execution_count": null,
   "metadata": {},
   "outputs": [
    {
     "data": {
      "text/html": [
       "<div>\n",
       "<style scoped>\n",
       "    .dataframe tbody tr th:only-of-type {\n",
       "        vertical-align: middle;\n",
       "    }\n",
       "\n",
       "    .dataframe tbody tr th {\n",
       "        vertical-align: top;\n",
       "    }\n",
       "\n",
       "    .dataframe thead th {\n",
       "        text-align: right;\n",
       "    }\n",
       "</style>\n",
       "<table border=\"1\" class=\"dataframe\">\n",
       "  <thead>\n",
       "    <tr style=\"text-align: right;\">\n",
       "      <th></th>\n",
       "      <th>2024</th>\n",
       "      <th>2030</th>\n",
       "      <th>2100</th>\n",
       "    </tr>\n",
       "  </thead>\n",
       "  <tbody>\n",
       "    <tr>\n",
       "      <th>count</th>\n",
       "      <td>2.580000e+02</td>\n",
       "      <td>2.580000e+02</td>\n",
       "      <td>2.580000e+02</td>\n",
       "    </tr>\n",
       "    <tr>\n",
       "      <th>mean</th>\n",
       "      <td>1.409838e+08</td>\n",
       "      <td>1.483421e+08</td>\n",
       "      <td>1.758736e+08</td>\n",
       "    </tr>\n",
       "    <tr>\n",
       "      <th>std</th>\n",
       "      <td>6.587727e+08</td>\n",
       "      <td>6.906787e+08</td>\n",
       "      <td>8.173571e+08</td>\n",
       "    </tr>\n",
       "    <tr>\n",
       "      <th>min</th>\n",
       "      <td>5.260000e+02</td>\n",
       "      <td>5.610000e+02</td>\n",
       "      <td>1.237000e+03</td>\n",
       "    </tr>\n",
       "    <tr>\n",
       "      <th>25%</th>\n",
       "      <td>5.999040e+05</td>\n",
       "      <td>6.259820e+05</td>\n",
       "      <td>6.768595e+05</td>\n",
       "    </tr>\n",
       "    <tr>\n",
       "      <th>50%</th>\n",
       "      <td>6.893438e+06</td>\n",
       "      <td>7.254900e+06</td>\n",
       "      <td>8.156020e+06</td>\n",
       "    </tr>\n",
       "    <tr>\n",
       "      <th>75%</th>\n",
       "      <td>3.483818e+07</td>\n",
       "      <td>3.830878e+07</td>\n",
       "      <td>5.201191e+07</td>\n",
       "    </tr>\n",
       "    <tr>\n",
       "      <th>max</th>\n",
       "      <td>8.118836e+09</td>\n",
       "      <td>8.546141e+09</td>\n",
       "      <td>1.034932e+10</td>\n",
       "    </tr>\n",
       "  </tbody>\n",
       "</table>\n",
       "</div>"
      ],
      "text/plain": [
       "               2024          2030          2100\n",
       "count  2.580000e+02  2.580000e+02  2.580000e+02\n",
       "mean   1.409838e+08  1.483421e+08  1.758736e+08\n",
       "std    6.587727e+08  6.906787e+08  8.173571e+08\n",
       "min    5.260000e+02  5.610000e+02  1.237000e+03\n",
       "25%    5.999040e+05  6.259820e+05  6.768595e+05\n",
       "50%    6.893438e+06  7.254900e+06  8.156020e+06\n",
       "75%    3.483818e+07  3.830878e+07  5.201191e+07\n",
       "max    8.118836e+09  8.546141e+09  1.034932e+10"
      ]
     },
     "execution_count": 64,
     "metadata": {},
     "output_type": "execute_result"
    }
   ],
   "source": [
    "df_a.describe()"
   ]
  },
  {
   "cell_type": "markdown",
   "metadata": {},
   "source": [
    "2. How is the `DataFrame` currently indexed? If it is not already, make the `countries` column the index."
   ]
  },
  {
   "cell_type": "code",
   "execution_count": null,
   "metadata": {},
   "outputs": [],
   "source": [
    "df_a = df_a.set_index('countries')"
   ]
  },
  {
   "cell_type": "markdown",
   "metadata": {},
   "source": [
    "3. What is the largest population listed for 2030?"
   ]
  },
  {
   "cell_type": "code",
   "execution_count": null,
   "metadata": {},
   "outputs": [
    {
     "data": {
      "text/html": [
       "<div>\n",
       "<style scoped>\n",
       "    .dataframe tbody tr th:only-of-type {\n",
       "        vertical-align: middle;\n",
       "    }\n",
       "\n",
       "    .dataframe tbody tr th {\n",
       "        vertical-align: top;\n",
       "    }\n",
       "\n",
       "    .dataframe thead th {\n",
       "        text-align: right;\n",
       "    }\n",
       "</style>\n",
       "<table border=\"1\" class=\"dataframe\">\n",
       "  <thead>\n",
       "    <tr style=\"text-align: right;\">\n",
       "      <th></th>\n",
       "      <th>2024</th>\n",
       "      <th>2030</th>\n",
       "      <th>2100</th>\n",
       "    </tr>\n",
       "    <tr>\n",
       "      <th>countries</th>\n",
       "      <th></th>\n",
       "      <th></th>\n",
       "      <th></th>\n",
       "    </tr>\n",
       "  </thead>\n",
       "  <tbody>\n",
       "    <tr>\n",
       "      <th>World</th>\n",
       "      <td>8118836000</td>\n",
       "      <td>8546141000</td>\n",
       "      <td>10349323000</td>\n",
       "    </tr>\n",
       "    <tr>\n",
       "      <th>Asia</th>\n",
       "      <td>4785060000</td>\n",
       "      <td>4958807000</td>\n",
       "      <td>4674249000</td>\n",
       "    </tr>\n",
       "    <tr>\n",
       "      <th>East Asia and Southeast Asia</th>\n",
       "      <td>2354122000</td>\n",
       "      <td>2372658000</td>\n",
       "      <td>1652016000</td>\n",
       "    </tr>\n",
       "    <tr>\n",
       "      <th>Central Asia and South Asia</th>\n",
       "      <td>2128585000</td>\n",
       "      <td>2258687000</td>\n",
       "      <td>2559659000</td>\n",
       "    </tr>\n",
       "    <tr>\n",
       "      <th>South Asia</th>\n",
       "      <td>2049313000</td>\n",
       "      <td>2173354000</td>\n",
       "      <td>2433583000</td>\n",
       "    </tr>\n",
       "    <tr>\n",
       "      <th>...</th>\n",
       "      <td>...</td>\n",
       "      <td>...</td>\n",
       "      <td>...</td>\n",
       "    </tr>\n",
       "    <tr>\n",
       "      <th>Montserrat</th>\n",
       "      <td>4372</td>\n",
       "      <td>4301</td>\n",
       "      <td>2575</td>\n",
       "    </tr>\n",
       "    <tr>\n",
       "      <th>Falkland Islands</th>\n",
       "      <td>3803</td>\n",
       "      <td>3869</td>\n",
       "      <td>2773</td>\n",
       "    </tr>\n",
       "    <tr>\n",
       "      <th>Tokelau</th>\n",
       "      <td>1915</td>\n",
       "      <td>2046</td>\n",
       "      <td>2805</td>\n",
       "    </tr>\n",
       "    <tr>\n",
       "      <th>Niue</th>\n",
       "      <td>1935</td>\n",
       "      <td>1948</td>\n",
       "      <td>2225</td>\n",
       "    </tr>\n",
       "    <tr>\n",
       "      <th>Vatican City</th>\n",
       "      <td>526</td>\n",
       "      <td>561</td>\n",
       "      <td>1237</td>\n",
       "    </tr>\n",
       "  </tbody>\n",
       "</table>\n",
       "<p>258 rows × 3 columns</p>\n",
       "</div>"
      ],
      "text/plain": [
       "                                    2024        2030         2100\n",
       "countries                                                        \n",
       "World                         8118836000  8546141000  10349323000\n",
       "Asia                          4785060000  4958807000   4674249000\n",
       "East Asia and Southeast Asia  2354122000  2372658000   1652016000\n",
       "Central Asia and South Asia   2128585000  2258687000   2559659000\n",
       "South Asia                    2049313000  2173354000   2433583000\n",
       "...                                  ...         ...          ...\n",
       "Montserrat                          4372        4301         2575\n",
       "Falkland Islands                    3803        3869         2773\n",
       "Tokelau                             1915        2046         2805\n",
       "Niue                                1935        1948         2225\n",
       "Vatican City                         526         561         1237\n",
       "\n",
       "[258 rows x 3 columns]"
      ]
     },
     "execution_count": 66,
     "metadata": {},
     "output_type": "execute_result"
    }
   ],
   "source": [
    "df_a.sort_values(by=2030, ascending=False)"
   ]
  },
  {
   "cell_type": "markdown",
   "metadata": {},
   "source": [
    "4. What was the population of Austria from now to 2100?"
   ]
  },
  {
   "cell_type": "code",
   "execution_count": null,
   "metadata": {},
   "outputs": [
    {
     "data": {
      "text/plain": [
       "2024    9120813\n",
       "2030    9080346\n",
       "2100    7399328\n",
       "Name: Austria, dtype: int64"
      ]
     },
     "execution_count": 67,
     "metadata": {},
     "output_type": "execute_result"
    }
   ],
   "source": [
    "df_a.loc['Austria']\n"
   ]
  },
  {
   "cell_type": "markdown",
   "metadata": {},
   "source": [
    "5. What will the population be of France in 2030?"
   ]
  },
  {
   "cell_type": "code",
   "execution_count": null,
   "metadata": {},
   "outputs": [
    {
     "data": {
      "text/plain": [
       "2024    64881830\n",
       "2030    65543452\n",
       "2100    60851673\n",
       "Name: France, dtype: int64"
      ]
     },
     "execution_count": 68,
     "metadata": {},
     "output_type": "execute_result"
    }
   ],
   "source": [
    "df_a.loc['France']"
   ]
  },
  {
   "cell_type": "markdown",
   "metadata": {},
   "source": [
    "6. What 5 entries will have the highest population in 2100? Display their records."
   ]
  },
  {
   "cell_type": "code",
   "execution_count": null,
   "metadata": {},
   "outputs": [
    {
     "data": {
      "text/html": [
       "<div>\n",
       "<style scoped>\n",
       "    .dataframe tbody tr th:only-of-type {\n",
       "        vertical-align: middle;\n",
       "    }\n",
       "\n",
       "    .dataframe tbody tr th {\n",
       "        vertical-align: top;\n",
       "    }\n",
       "\n",
       "    .dataframe thead th {\n",
       "        text-align: right;\n",
       "    }\n",
       "</style>\n",
       "<table border=\"1\" class=\"dataframe\">\n",
       "  <thead>\n",
       "    <tr style=\"text-align: right;\">\n",
       "      <th></th>\n",
       "      <th>2024</th>\n",
       "      <th>2030</th>\n",
       "      <th>2100</th>\n",
       "    </tr>\n",
       "    <tr>\n",
       "      <th>countries</th>\n",
       "      <th></th>\n",
       "      <th></th>\n",
       "      <th></th>\n",
       "    </tr>\n",
       "  </thead>\n",
       "  <tbody>\n",
       "    <tr>\n",
       "      <th>World</th>\n",
       "      <td>8118836000</td>\n",
       "      <td>8546141000</td>\n",
       "      <td>10349323000</td>\n",
       "    </tr>\n",
       "    <tr>\n",
       "      <th>Asia</th>\n",
       "      <td>4785060000</td>\n",
       "      <td>4958807000</td>\n",
       "      <td>4674249000</td>\n",
       "    </tr>\n",
       "    <tr>\n",
       "      <th>Africa</th>\n",
       "      <td>1494994000</td>\n",
       "      <td>1710666000</td>\n",
       "      <td>3924421000</td>\n",
       "    </tr>\n",
       "    <tr>\n",
       "      <th>Sub-Saharan Africa</th>\n",
       "      <td>1226534000</td>\n",
       "      <td>1417346000</td>\n",
       "      <td>3442347000</td>\n",
       "    </tr>\n",
       "    <tr>\n",
       "      <th>Central Asia and South Asia</th>\n",
       "      <td>2128585000</td>\n",
       "      <td>2258687000</td>\n",
       "      <td>2559659000</td>\n",
       "    </tr>\n",
       "  </tbody>\n",
       "</table>\n",
       "</div>"
      ],
      "text/plain": [
       "                                   2024        2030         2100\n",
       "countries                                                       \n",
       "World                        8118836000  8546141000  10349323000\n",
       "Asia                         4785060000  4958807000   4674249000\n",
       "Africa                       1494994000  1710666000   3924421000\n",
       "Sub-Saharan Africa           1226534000  1417346000   3442347000\n",
       "Central Asia and South Asia  2128585000  2258687000   2559659000"
      ]
     },
     "execution_count": 69,
     "metadata": {},
     "output_type": "execute_result"
    }
   ],
   "source": [
    "df_a.nlargest(5, 2100)\n"
   ]
  },
  {
   "cell_type": "markdown",
   "metadata": {},
   "source": [
    "7. What was country with the smallest population in 2024?"
   ]
  },
  {
   "cell_type": "code",
   "execution_count": null,
   "metadata": {},
   "outputs": [
    {
     "data": {
      "text/html": [
       "<div>\n",
       "<style scoped>\n",
       "    .dataframe tbody tr th:only-of-type {\n",
       "        vertical-align: middle;\n",
       "    }\n",
       "\n",
       "    .dataframe tbody tr th {\n",
       "        vertical-align: top;\n",
       "    }\n",
       "\n",
       "    .dataframe thead th {\n",
       "        text-align: right;\n",
       "    }\n",
       "</style>\n",
       "<table border=\"1\" class=\"dataframe\">\n",
       "  <thead>\n",
       "    <tr style=\"text-align: right;\">\n",
       "      <th></th>\n",
       "      <th>2024</th>\n",
       "      <th>2030</th>\n",
       "      <th>2100</th>\n",
       "    </tr>\n",
       "    <tr>\n",
       "      <th>countries</th>\n",
       "      <th></th>\n",
       "      <th></th>\n",
       "      <th></th>\n",
       "    </tr>\n",
       "  </thead>\n",
       "  <tbody>\n",
       "    <tr>\n",
       "      <th>Vatican City</th>\n",
       "      <td>526</td>\n",
       "      <td>561</td>\n",
       "      <td>1237</td>\n",
       "    </tr>\n",
       "    <tr>\n",
       "      <th>Tokelau</th>\n",
       "      <td>1915</td>\n",
       "      <td>2046</td>\n",
       "      <td>2805</td>\n",
       "    </tr>\n",
       "    <tr>\n",
       "      <th>Niue</th>\n",
       "      <td>1935</td>\n",
       "      <td>1948</td>\n",
       "      <td>2225</td>\n",
       "    </tr>\n",
       "    <tr>\n",
       "      <th>Falkland Islands</th>\n",
       "      <td>3803</td>\n",
       "      <td>3869</td>\n",
       "      <td>2773</td>\n",
       "    </tr>\n",
       "    <tr>\n",
       "      <th>Montserrat</th>\n",
       "      <td>4372</td>\n",
       "      <td>4301</td>\n",
       "      <td>2575</td>\n",
       "    </tr>\n",
       "    <tr>\n",
       "      <th>...</th>\n",
       "      <td>...</td>\n",
       "      <td>...</td>\n",
       "      <td>...</td>\n",
       "    </tr>\n",
       "    <tr>\n",
       "      <th>South Asia</th>\n",
       "      <td>2049313000</td>\n",
       "      <td>2173354000</td>\n",
       "      <td>2433583000</td>\n",
       "    </tr>\n",
       "    <tr>\n",
       "      <th>Central Asia and South Asia</th>\n",
       "      <td>2128585000</td>\n",
       "      <td>2258687000</td>\n",
       "      <td>2559659000</td>\n",
       "    </tr>\n",
       "    <tr>\n",
       "      <th>East Asia and Southeast Asia</th>\n",
       "      <td>2354122000</td>\n",
       "      <td>2372658000</td>\n",
       "      <td>1652016000</td>\n",
       "    </tr>\n",
       "    <tr>\n",
       "      <th>Asia</th>\n",
       "      <td>4785060000</td>\n",
       "      <td>4958807000</td>\n",
       "      <td>4674249000</td>\n",
       "    </tr>\n",
       "    <tr>\n",
       "      <th>World</th>\n",
       "      <td>8118836000</td>\n",
       "      <td>8546141000</td>\n",
       "      <td>10349323000</td>\n",
       "    </tr>\n",
       "  </tbody>\n",
       "</table>\n",
       "<p>258 rows × 3 columns</p>\n",
       "</div>"
      ],
      "text/plain": [
       "                                    2024        2030         2100\n",
       "countries                                                        \n",
       "Vatican City                         526         561         1237\n",
       "Tokelau                             1915        2046         2805\n",
       "Niue                                1935        1948         2225\n",
       "Falkland Islands                    3803        3869         2773\n",
       "Montserrat                          4372        4301         2575\n",
       "...                                  ...         ...          ...\n",
       "South Asia                    2049313000  2173354000   2433583000\n",
       "Central Asia and South Asia   2128585000  2258687000   2559659000\n",
       "East Asia and Southeast Asia  2354122000  2372658000   1652016000\n",
       "Asia                          4785060000  4958807000   4674249000\n",
       "World                         8118836000  8546141000  10349323000\n",
       "\n",
       "[258 rows x 3 columns]"
      ]
     },
     "execution_count": 70,
     "metadata": {},
     "output_type": "execute_result"
    }
   ],
   "source": [
    "df_a.sort_values(by=2024, ascending=True)"
   ]
  },
  {
   "cell_type": "markdown",
   "metadata": {},
   "source": [
    "8. Create a plot with `plot()` to compare the population of Austria, Germany, United States, and France from 2024-2100. Your graph needs to include a  proper title, axis labels, and legend."
   ]
  },
  {
   "cell_type": "code",
   "execution_count": 83,
   "metadata": {},
   "outputs": [
    {
     "data": {
      "image/png": "[encoded data removed]",
      "text/plain": [
       "<Figure size 640x480 with 1 Axes>"
      ]
     },
     "metadata": {},
     "output_type": "display_data"
    }
   ],
   "source": [
    "import matplotlib.pyplot as plt\n",
    "plt.plot(df_a.loc['Austria'],marker='h', label=\"Austria\")\n",
    "plt.plot(df_a.loc['Germany'],marker='h', label=\"Germany\")\n",
    "plt.plot(df_a.loc['United States'],marker='h', label=\"United States\")\n",
    "plt.plot(df_a.loc['France'],marker='h', label=\"France\")\n",
    "plt.xticks([2024, 2030, 2100], labels=[\"2024\", \"2030\", \"2100\"])\n",
    "plt.grid()\n",
    "plt.xlabel('years')\n",
    "plt.ylabel('population')\n",
    "plt.title('Countries throughout the years')\n",
    "plt.legend()\n",
    "plt.show()\n"
   ]
  }
 ],
 "metadata": {
  "kernelspec": {
   "display_name": "Python 3",
   "language": "python",
   "name": "python3"
  },
  "language_info": {
   "codemirror_mode": {
    "name": "ipython",
    "version": 3
   },
   "file_extension": ".py",
   "mimetype": "text/x-python",
   "name": "python",
   "nbconvert_exporter": "python",
   "pygments_lexer": "ipython3",
   "version": "3.12.3"
  }
 },
 "nbformat": 4,
 "nbformat_minor": 2
}
